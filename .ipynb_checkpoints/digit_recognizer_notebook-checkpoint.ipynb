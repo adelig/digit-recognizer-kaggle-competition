{
 "cells": [
  {
   "attachments": {},
   "cell_type": "markdown",
   "metadata": {},
   "source": [
    "# Classify handwritten digits based on various machine learning algorithms"
   ]
  },
  {
   "cell_type": "markdown",
   "metadata": {},
   "source": [
    "![title](img/1.PNG)"
   ]
  },
  {
   "cell_type": "markdown",
   "metadata": {},
   "source": [
    "# Steps\n",
    "\n",
    "1. Load and clean the dataset\n",
    "2. Split it into training and validation data\n",
    "3. Train 5 different models on the data:\n",
    "    - Multiple Linear Regression\n",
    "    - SVM with PCA\n",
    "    - XGBoost with parameter tuning\n",
    "    - Random Forest Classifier\n",
    "    - KNN with PCA\n",
    "4. Evaluate models based on F1 score and accuracy on validation data"
   ]
  },
  {
   "attachments": {},
   "cell_type": "markdown",
   "metadata": {},
   "source": [
    "# Dataset\n",
    "\n",
    "Both train.csv and test.csv datasets can be found here: https://www.kaggle.com/c/digit-recognizer/data\n",
    "\n",
    "They contain gray-scale images of handwritten digits from zero to nine, while each image is 28 pixels in height and 28 pixels in width, for a total of 784 pixels. Each pixel has a single pixel-value associated with it, indicating the lightness or darkness of that pixel, with higher numbers meaning darker. This pixel-value is an integer between 0 and 255, inclusive.\n",
    "\n",
    "In training dataset there is also a column named \"label\", which is the described digit (by its pixels) itself.\n",
    "\n",
    "![title](img/2.PNG)"
   ]
  },
  {
   "cell_type": "markdown",
   "metadata": {},
   "source": [
    "# Import Dependencies"
   ]
  },
  {
   "cell_type": "code",
   "execution_count": 1,
   "metadata": {},
   "outputs": [
    {
     "name": "stderr",
     "output_type": "stream",
     "text": [
      "C:\\Users\\alexd\\Anaconda2\\lib\\site-packages\\sklearn\\cross_validation.py:41: DeprecationWarning: This module was deprecated in version 0.18 in favor of the model_selection module into which all the refactored classes and functions are moved. Also note that the interface of the new CV iterators are different from that of this module. This module will be removed in 0.20.\n",
      "  \"This module will be removed in 0.20.\", DeprecationWarning)\n",
      "C:\\Users\\alexd\\Anaconda2\\lib\\site-packages\\sklearn\\grid_search.py:42: DeprecationWarning: This module was deprecated in version 0.18 in favor of the model_selection module into which all the refactored classes and functions are moved. This module will be removed in 0.20.\n",
      "  DeprecationWarning)\n"
     ]
    }
   ],
   "source": [
    "import pandas as pd\n",
    "import numpy as np\n",
    "import seaborn as sns\n",
    "import os\n",
    "from time import time\n",
    "import matplotlib.pyplot as plt\n",
    "\n",
    "from sklearn.preprocessing import OneHotEncoder\n",
    "from sklearn.model_selection import train_test_split\n",
    "from sklearn.linear_model import LinearRegression\n",
    "from sklearn.svm import SVC\n",
    "from sklearn.ensemble import RandomForestClassifier\n",
    "from sklearn.neighbors import KNeighborsClassifier\n",
    "from sklearn.decomposition import PCA\n",
    "import xgboost as xgb\n",
    "from sklearn.metrics import f1_score\n",
    "from sklearn.grid_search import GridSearchCV\n",
    "from sklearn.metrics import make_scorer"
   ]
  },
  {
   "cell_type": "markdown",
   "metadata": {},
   "source": [
    "# Preprocessing"
   ]
  },
  {
   "cell_type": "code",
   "execution_count": 2,
   "metadata": {},
   "outputs": [
    {
     "data": {
      "text/html": [
       "<div>\n",
       "<style>\n",
       "    .dataframe thead tr:only-child th {\n",
       "        text-align: right;\n",
       "    }\n",
       "\n",
       "    .dataframe thead th {\n",
       "        text-align: left;\n",
       "    }\n",
       "\n",
       "    .dataframe tbody tr th {\n",
       "        vertical-align: top;\n",
       "    }\n",
       "</style>\n",
       "<table border=\"1\" class=\"dataframe\">\n",
       "  <thead>\n",
       "    <tr style=\"text-align: right;\">\n",
       "      <th></th>\n",
       "      <th>pixel0</th>\n",
       "      <th>pixel1</th>\n",
       "      <th>pixel2</th>\n",
       "      <th>pixel3</th>\n",
       "      <th>pixel4</th>\n",
       "      <th>pixel5</th>\n",
       "      <th>pixel6</th>\n",
       "      <th>pixel7</th>\n",
       "      <th>pixel8</th>\n",
       "      <th>pixel9</th>\n",
       "      <th>...</th>\n",
       "      <th>pixel774</th>\n",
       "      <th>pixel775</th>\n",
       "      <th>pixel776</th>\n",
       "      <th>pixel777</th>\n",
       "      <th>pixel778</th>\n",
       "      <th>pixel779</th>\n",
       "      <th>pixel780</th>\n",
       "      <th>pixel781</th>\n",
       "      <th>pixel782</th>\n",
       "      <th>pixel783</th>\n",
       "    </tr>\n",
       "  </thead>\n",
       "  <tbody>\n",
       "    <tr>\n",
       "      <th>0</th>\n",
       "      <td>0</td>\n",
       "      <td>0</td>\n",
       "      <td>0</td>\n",
       "      <td>0</td>\n",
       "      <td>0</td>\n",
       "      <td>0</td>\n",
       "      <td>0</td>\n",
       "      <td>0</td>\n",
       "      <td>0</td>\n",
       "      <td>0</td>\n",
       "      <td>...</td>\n",
       "      <td>0</td>\n",
       "      <td>0</td>\n",
       "      <td>0</td>\n",
       "      <td>0</td>\n",
       "      <td>0</td>\n",
       "      <td>0</td>\n",
       "      <td>0</td>\n",
       "      <td>0</td>\n",
       "      <td>0</td>\n",
       "      <td>0</td>\n",
       "    </tr>\n",
       "    <tr>\n",
       "      <th>1</th>\n",
       "      <td>0</td>\n",
       "      <td>0</td>\n",
       "      <td>0</td>\n",
       "      <td>0</td>\n",
       "      <td>0</td>\n",
       "      <td>0</td>\n",
       "      <td>0</td>\n",
       "      <td>0</td>\n",
       "      <td>0</td>\n",
       "      <td>0</td>\n",
       "      <td>...</td>\n",
       "      <td>0</td>\n",
       "      <td>0</td>\n",
       "      <td>0</td>\n",
       "      <td>0</td>\n",
       "      <td>0</td>\n",
       "      <td>0</td>\n",
       "      <td>0</td>\n",
       "      <td>0</td>\n",
       "      <td>0</td>\n",
       "      <td>0</td>\n",
       "    </tr>\n",
       "    <tr>\n",
       "      <th>2</th>\n",
       "      <td>0</td>\n",
       "      <td>0</td>\n",
       "      <td>0</td>\n",
       "      <td>0</td>\n",
       "      <td>0</td>\n",
       "      <td>0</td>\n",
       "      <td>0</td>\n",
       "      <td>0</td>\n",
       "      <td>0</td>\n",
       "      <td>0</td>\n",
       "      <td>...</td>\n",
       "      <td>0</td>\n",
       "      <td>0</td>\n",
       "      <td>0</td>\n",
       "      <td>0</td>\n",
       "      <td>0</td>\n",
       "      <td>0</td>\n",
       "      <td>0</td>\n",
       "      <td>0</td>\n",
       "      <td>0</td>\n",
       "      <td>0</td>\n",
       "    </tr>\n",
       "    <tr>\n",
       "      <th>3</th>\n",
       "      <td>0</td>\n",
       "      <td>0</td>\n",
       "      <td>0</td>\n",
       "      <td>0</td>\n",
       "      <td>0</td>\n",
       "      <td>0</td>\n",
       "      <td>0</td>\n",
       "      <td>0</td>\n",
       "      <td>0</td>\n",
       "      <td>0</td>\n",
       "      <td>...</td>\n",
       "      <td>0</td>\n",
       "      <td>0</td>\n",
       "      <td>0</td>\n",
       "      <td>0</td>\n",
       "      <td>0</td>\n",
       "      <td>0</td>\n",
       "      <td>0</td>\n",
       "      <td>0</td>\n",
       "      <td>0</td>\n",
       "      <td>0</td>\n",
       "    </tr>\n",
       "    <tr>\n",
       "      <th>4</th>\n",
       "      <td>0</td>\n",
       "      <td>0</td>\n",
       "      <td>0</td>\n",
       "      <td>0</td>\n",
       "      <td>0</td>\n",
       "      <td>0</td>\n",
       "      <td>0</td>\n",
       "      <td>0</td>\n",
       "      <td>0</td>\n",
       "      <td>0</td>\n",
       "      <td>...</td>\n",
       "      <td>0</td>\n",
       "      <td>0</td>\n",
       "      <td>0</td>\n",
       "      <td>0</td>\n",
       "      <td>0</td>\n",
       "      <td>0</td>\n",
       "      <td>0</td>\n",
       "      <td>0</td>\n",
       "      <td>0</td>\n",
       "      <td>0</td>\n",
       "    </tr>\n",
       "  </tbody>\n",
       "</table>\n",
       "<p>5 rows × 784 columns</p>\n",
       "</div>"
      ],
      "text/plain": [
       "   pixel0  pixel1  pixel2  pixel3  pixel4  pixel5  pixel6  pixel7  pixel8  \\\n",
       "0       0       0       0       0       0       0       0       0       0   \n",
       "1       0       0       0       0       0       0       0       0       0   \n",
       "2       0       0       0       0       0       0       0       0       0   \n",
       "3       0       0       0       0       0       0       0       0       0   \n",
       "4       0       0       0       0       0       0       0       0       0   \n",
       "\n",
       "   pixel9    ...     pixel774  pixel775  pixel776  pixel777  pixel778  \\\n",
       "0       0    ...            0         0         0         0         0   \n",
       "1       0    ...            0         0         0         0         0   \n",
       "2       0    ...            0         0         0         0         0   \n",
       "3       0    ...            0         0         0         0         0   \n",
       "4       0    ...            0         0         0         0         0   \n",
       "\n",
       "   pixel779  pixel780  pixel781  pixel782  pixel783  \n",
       "0         0         0         0         0         0  \n",
       "1         0         0         0         0         0  \n",
       "2         0         0         0         0         0  \n",
       "3         0         0         0         0         0  \n",
       "4         0         0         0         0         0  \n",
       "\n",
       "[5 rows x 784 columns]"
      ]
     },
     "metadata": {},
     "output_type": "display_data"
    },
    {
     "data": {
      "text/plain": [
       "0    1\n",
       "1    0\n",
       "2    1\n",
       "3    4\n",
       "4    0\n",
       "Name: label, dtype: int64"
      ]
     },
     "metadata": {},
     "output_type": "display_data"
    }
   ],
   "source": [
    "# Load the data\n",
    "path = \"C:/Users/alexd/OneDrive/Documents/digit_recognizer\"\n",
    "os.chdir(path)\n",
    "\n",
    "train = pd.read_csv(\"train.csv\")\n",
    "test = pd.read_csv(\"test.csv\")\n",
    "\n",
    "Y_train = train[\"label\"]\n",
    "\n",
    "# Drop 'label' column\n",
    "X_train = train.drop(labels = [\"label\"],axis = 1)\n",
    "\n",
    "# Free some space\n",
    "del train\n",
    "\n",
    "display(X_train.head())\n",
    "display(Y_train.head())"
   ]
  },
  {
   "cell_type": "code",
   "execution_count": 3,
   "metadata": {},
   "outputs": [
    {
     "data": {
      "image/png": "[encoded data removed]",
      "text/plain": [
       "<matplotlib.figure.Figure at 0xe6b1f98>"
      ]
     },
     "metadata": {},
     "output_type": "display_data"
    }
   ],
   "source": [
    "# Visualize the data\n",
    "sns.countplot(Y_train)\n",
    "plt.show()"
   ]
  },
  {
   "cell_type": "code",
   "execution_count": 4,
   "metadata": {},
   "outputs": [
    {
     "data": {
      "text/plain": [
       "1    4684\n",
       "7    4401\n",
       "3    4351\n",
       "9    4188\n",
       "2    4177\n",
       "6    4137\n",
       "0    4132\n",
       "4    4072\n",
       "8    4063\n",
       "5    3795\n",
       "Name: label, dtype: int64"
      ]
     },
     "execution_count": 4,
     "metadata": {},
     "output_type": "execute_result"
    }
   ],
   "source": [
    "# As absolute values\n",
    "Y_train.value_counts()"
   ]
  },
  {
   "cell_type": "code",
   "execution_count": 5,
   "metadata": {},
   "outputs": [
    {
     "data": {
      "text/plain": [
       "count       784\n",
       "unique        1\n",
       "top       False\n",
       "freq        784\n",
       "dtype: object"
      ]
     },
     "execution_count": 5,
     "metadata": {},
     "output_type": "execute_result"
    }
   ],
   "source": [
    "# Check for missing values\n",
    "X_train.isnull().any().describe()"
   ]
  },
  {
   "cell_type": "code",
   "execution_count": 6,
   "metadata": {},
   "outputs": [
    {
     "data": {
      "text/plain": [
       "count       784\n",
       "unique        1\n",
       "top       False\n",
       "freq        784\n",
       "dtype: object"
      ]
     },
     "execution_count": 6,
     "metadata": {},
     "output_type": "execute_result"
    }
   ],
   "source": [
    "test.isnull().any().describe()"
   ]
  },
  {
   "cell_type": "code",
   "execution_count": 7,
   "metadata": {
    "collapsed": true
   },
   "outputs": [],
   "source": [
    "# Normalize the data\n",
    "X_train = X_train / 255.0\n",
    "test = test / 255.0"
   ]
  },
  {
   "cell_type": "code",
   "execution_count": 8,
   "metadata": {},
   "outputs": [
    {
     "data": {
      "text/plain": [
       "(42000L, 10L)"
      ]
     },
     "execution_count": 8,
     "metadata": {},
     "output_type": "execute_result"
    }
   ],
   "source": [
    "# Encode labels to one hot vectors (ex : 2 -> [0,0,1,0,0,0,0,0,0,0])\n",
    "# 1. INSTANTIATE\n",
    "enc = OneHotEncoder()\n",
    "# 2. FIT\n",
    "enc.fit(Y_train.to_frame())\n",
    "# 3. Transform\n",
    "Y_train = enc.transform(Y_train.to_frame()).toarray()\n",
    "Y_train.shape"
   ]
  },
  {
   "cell_type": "code",
   "execution_count": 9,
   "metadata": {
    "collapsed": true
   },
   "outputs": [],
   "source": [
    "# Split the train and the validation set for the fitting\n",
    "# Since we have balanced labels, no need to use stratify = True option in train_test_split function\n",
    "X_train, X_val, Y_train, Y_val = train_test_split(X_train, \n",
    "                                                  Y_train, \n",
    "                                                  test_size = 0.1, \n",
    "                                                  random_state=2)"
   ]
  },
  {
   "cell_type": "markdown",
   "metadata": {},
   "source": [
    "# Training & Evaluating functions"
   ]
  },
  {
   "cell_type": "code",
   "execution_count": 10,
   "metadata": {
    "collapsed": true
   },
   "outputs": [],
   "source": [
    "# Decode one hot encoding\n",
    "def get_number(y):\n",
    "    numbers = pd.DataFrame(y)\n",
    "    return numbers.idxmax(axis=1).as_matrix()\n",
    "\n",
    "y_val = get_number(Y_val)\n",
    "\n",
    "def train_classifier(clf):    \n",
    "    start = time()\n",
    "    if clf == clf_xgb or clf == clf_svm or clf == clf_knn:\n",
    "        y_train = get_number(Y_train)\n",
    "    else:\n",
    "        y_train = Y_train\n",
    "    if clf == clf_svm or clf == clf_knn:\n",
    "        clf.fit(X_train_pca, y_train)\n",
    "    else:\n",
    "        clf.fit(X_train, y_train)\n",
    "    end = time()\n",
    "    print \"Trained model in {:.4f} seconds\".format(end - start)\n",
    "\n",
    "def predict_labels(clf):\n",
    "    start = time()\n",
    "    if clf == clf_svm or clf == clf_knn:\n",
    "        Y_pred = clf.predict(X_val_pca)\n",
    "    else:\n",
    "        Y_pred = clf.predict(X_val)   \n",
    "    end = time()\n",
    "    if clf == clf_xgb or clf == clf_svm or clf == clf_knn:\n",
    "        y_pred = Y_pred\n",
    "    else:\n",
    "        y_pred = get_number(Y_pred)\n",
    "    print \"Made predictions in {:.4f} seconds.\".format(end - start)\n",
    "    return f1_score(y_val, y_pred, average = 'weighted'), sum(y_val == y_pred) / float(len(y_pred))\n",
    "\n",
    "def train_predict(clf):\n",
    "    print \"Training a {} using a training set size of {}. . .\".format(clf.__class__.__name__, len(X_train))\n",
    "    train_classifier(clf)\n",
    "    f1, acc = predict_labels(clf)\n",
    "    print \"F1 score and accuracy score for test set: {:.4f} , {:.4f}.\".format(f1 , acc)\n",
    "\n",
    "def n_component_analysis(clf, n):\n",
    "    y_train = get_number(Y_train)\n",
    "    start = time()\n",
    "    pca = PCA(n_components=n)\n",
    "    print(\"PCA begin with n_components: {}\".format(n));\n",
    "    pca.fit(X_train)\n",
    "    X_train_pca = pca.transform(X_train)\n",
    "    X_val_pca = pca.transform(X_val)\n",
    "    if clf == clf_svm:\n",
    "        print('SVM begin')\n",
    "        clf = SVC()\n",
    "    elif clf == clf_knn:\n",
    "        print('KNN begin')\n",
    "        clf = KNeighborsClassifier()\n",
    "    clf.fit(X_train_pca, y_train)\n",
    "    accuracy = clf.score(X_val_pca, y_val)\n",
    "    end = time()\n",
    "    print(\"accuracy: {}, time lapse:{}\".format(accuracy, int(end-start)))\n",
    "    return accuracy\n",
    "\n",
    "def X_train_val_pca(clf):\n",
    "    n_range = np.zeros(10)\n",
    "    if clf == clf_svm:\n",
    "        n_range = np.linspace(0.7, 0.85, num=10).round(2)\n",
    "    elif clf == clf_knn:\n",
    "        n_range = np.linspace(1, 200, num=10).round().astype(int)\n",
    "    accuracy = []\n",
    "    for n in n_range:\n",
    "        acc = n_component_analysis(clf, n)\n",
    "        print('')\n",
    "        accuracy.append(acc)\n",
    "        \n",
    "    #plt.plot(n_range, np.array(accuracy), 'b-')\n",
    "    \n",
    "    if clf == clf_svm:\n",
    "        pca = PCA(n_components=n_range[np.argmax(accuracy)], svd_solver ='full')\n",
    "    elif clf == clf_knn:\n",
    "        pca = PCA(n_components=n_range[np.argmax(accuracy)])\n",
    "    \n",
    "    pca.fit(X_train)\n",
    "    print(str(pca.n_components_) + ' components selected')  \n",
    "    X_train_pca = pca.transform(X_train)\n",
    "    X_val_pca = pca.transform(X_val)\n",
    "    \n",
    "    return X_train_pca, X_val_pca"
   ]
  },
  {
   "cell_type": "markdown",
   "metadata": {},
   "source": [
    "# Run models"
   ]
  },
  {
   "cell_type": "code",
   "execution_count": 11,
   "metadata": {},
   "outputs": [
    {
     "name": "stdout",
     "output_type": "stream",
     "text": [
      "Training a LinearRegression using a training set size of 37800. . .\n",
      "Trained model in 4.0810 seconds\n",
      "Made predictions in 0.0180 seconds.\n",
      "F1 score and accuracy score for test set: 0.8501 , 0.8514.\n",
      "\n",
      "PCA begin with n_components: 0.7\n",
      "SVM begin\n",
      "accuracy: 0.977857142857, time lapse:42\n",
      "\n",
      "PCA begin with n_components: 0.72\n",
      "SVM begin\n",
      "accuracy: 0.977619047619, time lapse:46\n",
      "\n",
      "PCA begin with n_components: 0.73\n",
      "SVM begin\n",
      "accuracy: 0.977619047619, time lapse:46\n",
      "\n",
      "PCA begin with n_components: 0.75\n",
      "SVM begin\n",
      "accuracy: 0.978333333333, time lapse:45\n",
      "\n",
      "PCA begin with n_components: 0.77\n",
      "SVM begin\n",
      "accuracy: 0.97880952381, time lapse:48\n",
      "\n",
      "PCA begin with n_components: 0.78\n",
      "SVM begin\n",
      "accuracy: 0.977857142857, time lapse:49\n",
      "\n",
      "PCA begin with n_components: 0.8\n",
      "SVM begin\n",
      "accuracy: 0.977619047619, time lapse:52\n",
      "\n",
      "PCA begin with n_components: 0.82\n",
      "SVM begin\n",
      "accuracy: 0.977380952381, time lapse:56\n",
      "\n",
      "PCA begin with n_components: 0.83\n",
      "SVM begin\n",
      "accuracy: 0.977380952381, time lapse:55\n",
      "\n",
      "PCA begin with n_components: 0.85\n",
      "SVM begin\n",
      "accuracy: 0.977380952381, time lapse:56\n",
      "\n",
      "37 components selected\n",
      "Training a SVC using a training set size of 37800. . .\n",
      "Trained model in 36.4100 seconds\n",
      "Made predictions in 5.0410 seconds.\n",
      "F1 score and accuracy score for test set: 0.9788 , 0.9788.\n",
      "\n",
      "Training a XGBClassifier using a training set size of 37800. . .\n",
      "Trained model in 419.3750 seconds\n",
      "Made predictions in 0.3180 seconds.\n",
      "F1 score and accuracy score for test set: 0.9322 , 0.9321.\n",
      "\n",
      "Training a RandomForestClassifier using a training set size of 37800. . .\n",
      "Trained model in 30.9990 seconds\n",
      "Made predictions in 0.6890 seconds.\n",
      "F1 score and accuracy score for test set: 0.9015 , 0.8874.\n",
      "\n",
      "PCA begin with n_components: 1\n",
      "KNN begin\n",
      "accuracy: 0.269047619048, time lapse:2\n",
      "\n",
      "PCA begin with n_components: 23\n",
      "KNN begin\n",
      "accuracy: 0.970238095238, time lapse:12\n",
      "\n",
      "PCA begin with n_components: 45\n",
      "KNN begin\n",
      "accuracy: 0.975714285714, time lapse:27\n",
      "\n",
      "PCA begin with n_components: 67\n",
      "KNN begin\n",
      "accuracy: 0.971904761905, time lapse:42\n",
      "\n",
      "PCA begin with n_components: 89\n",
      "KNN begin\n",
      "accuracy: 0.97, time lapse:55\n",
      "\n",
      "PCA begin with n_components: 112\n",
      "KNN begin\n",
      "accuracy: 0.968095238095, time lapse:69\n",
      "\n",
      "PCA begin with n_components: 134\n",
      "KNN begin\n",
      "accuracy: 0.967857142857, time lapse:82\n",
      "\n",
      "PCA begin with n_components: 156\n",
      "KNN begin\n",
      "accuracy: 0.967619047619, time lapse:94\n",
      "\n",
      "PCA begin with n_components: 178\n",
      "KNN begin\n",
      "accuracy: 0.966666666667, time lapse:105\n",
      "\n",
      "PCA begin with n_components: 200\n",
      "KNN begin\n",
      "accuracy: 0.967142857143, time lapse:120\n",
      "\n",
      "45 components selected\n",
      "Training a KNeighborsClassifier using a training set size of 37800. . .\n",
      "Trained model in 0.4420 seconds\n",
      "Made predictions in 21.4060 seconds.\n",
      "F1 score and accuracy score for test set: 0.9762 , 0.9762.\n",
      "\n"
     ]
    }
   ],
   "source": [
    "clf_lr = LinearRegression()\n",
    "clf_svm = SVC()\n",
    "clf_xgb = xgb.XGBClassifier()\n",
    "clf_rf = RandomForestClassifier(n_estimators = 100, n_jobs=-1)  # Saturated after 100 estimators\n",
    "clf_knn = KNeighborsClassifier()\n",
    "\n",
    "clf_list = [clf_lr, clf_svm, clf_xgb, clf_rf, clf_knn]\n",
    "\n",
    "for cl in clf_list:\n",
    "    if cl == clf_svm or cl == clf_knn:\n",
    "        X_train_pca, X_val_pca = X_train_val_pca(cl)\n",
    "    train_predict(cl)\n",
    "    print ''"
   ]
  },
  {
   "cell_type": "markdown",
   "metadata": {},
   "source": [
    "# Tuning the parameters of XGBoost\n",
    "\n",
    "Useful link: https://www.analyticsvidhya.com/blog/2016/03/complete-guide-parameter-tuning-xgboost-with-codes-python/"
   ]
  },
  {
   "cell_type": "code",
   "execution_count": 12,
   "metadata": {},
   "outputs": [
    {
     "name": "stdout",
     "output_type": "stream",
     "text": [
      "XGBClassifier(base_score=0.5, colsample_bylevel=1, colsample_bytree=0.8,\n",
      "       gamma=0, learning_rate=0.3, max_delta_step=0, max_depth=4,\n",
      "       min_child_weight=2, missing=None, n_estimators=60, nthread=-1,\n",
      "       objective='multi:softprob', reg_alpha=0.001, reg_lambda=1,\n",
      "       scale_pos_weight=1, seed=0, silent=True, subsample=0.8)\n",
      "Made predictions in 0.1560 seconds.\n",
      "F1 score and accuracy score for test set after tuning: 0.9617 , 0.9617.\n"
     ]
    }
   ],
   "source": [
    "parameters = { 'learning_rate' : [0.3],\n",
    "               'n_estimators' : [60],\n",
    "               'max_depth': [4],\n",
    "               'min_child_weight': [2],\n",
    "               'gamma':[0],\n",
    "               'subsample' : [0.8],\n",
    "               'colsample_bytree' : [0.8],\n",
    "               'scale_pos_weight' : [1],\n",
    "               'reg_alpha':[0.001]\n",
    "             }\n",
    "\n",
    "clf_xgb = xgb.XGBClassifier()\n",
    "\n",
    "f1_scorer = make_scorer(f1_score, average = 'weighted')\n",
    "\n",
    "grid_obj = GridSearchCV(clf_xgb,\n",
    "                        scoring=f1_scorer,\n",
    "                        param_grid=parameters,\n",
    "                        cv=5)\n",
    "\n",
    "grid_obj = grid_obj.fit(X_train,get_number(Y_train))\n",
    "\n",
    "clf_xgb = grid_obj.best_estimator_\n",
    "print clf_xgb\n",
    "    \n",
    "f1, acc = predict_labels(clf_xgb)\n",
    "print \"F1 score and accuracy score for test set after tuning: {:.4f} , {:.4f}.\".format(f1 , acc)"
   ]
  }
 ],
 "metadata": {
  "kernelspec": {
   "display_name": "Python 2",
   "language": "python",
   "name": "python2"
  },
  "language_info": {
   "codemirror_mode": {
    "name": "ipython",
    "version": 2
   },
   "file_extension": ".py",
   "mimetype": "text/x-python",
   "name": "python",
   "nbconvert_exporter": "python",
   "pygments_lexer": "ipython2",
   "version": "2.7.14"
  }
 },
 "nbformat": 4,
 "nbformat_minor": 2
}
